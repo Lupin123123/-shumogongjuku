{
 "cells": [
  {
   "cell_type": "code",
   "execution_count": null,
   "metadata": {},
   "outputs": [],
   "source": [
    "import torch\n",
    "import pandas as pd\n",
    "from torch.autograd import Variable\n",
    "import torch.nn as nn\n",
    "from torch.optim import SGD"
   ]
  },
  {
   "cell_type": "code",
   "execution_count": null,
   "metadata": {},
   "outputs": [],
   "source": [
    "df = pd.read_excel('./数据集.xlsx')"
   ]
  },
  {
   "cell_type": "code",
   "execution_count": null,
   "metadata": {},
   "outputs": [],
   "source": [
    "train_x = df.iloc[:, 0].to_numpy().reshape(319, 1)\n",
    "train_y = df.iloc[:, 1].to_numpy().reshape(319, 1)\n",
    "target = df.iloc[:, 2].to_numpy()\n",
    "x_lim = train_x.max()\n",
    "y_lim = train_y.max()"
   ]
  },
  {
   "cell_type": "code",
   "execution_count": null,
   "metadata": {},
   "outputs": [],
   "source": [
    "N = 4\n",
    "class Model(nn.Module):\n",
    "    def __init__(self, N):\n",
    "        super(Model, self).__init__()\n",
    "        self.N = N\n",
    "        self.x0 = Variable(torch.rand(N), requires_grad=True)\n",
    "        self.y0 = Variable(torch.rand(N), requires_grad=True)\n",
    "        self.k = Variable(torch.rand(N), requires_grad=True)\n",
    "        self.sigma = Variable(torch.rand(N), requires_grad=True)\n",
    "        self.__parameters = dict(x0=self.x0, y0=self.y0, k=self.k, sigma=self.sigma)\n",
    "        \n",
    "    def forward(self, x, y, z):\n",
    "        loss = 0.0\n",
    "        for j in range(self.N):\n",
    "            miu = ((x - self.x0[j]) * (x - self.x0[j]) + (y - self.y0[j]) * (y - self.y0[j])) / self.sigma[j]\n",
    "            output = self.k[j] * torch.exp(-miu/2)\n",
    "            loss += 0.5 * (output - z) * (output - z)\n",
    "        return loss\n",
    "\n",
    "    def parameters(self):\n",
    "        for name, param in self.__parameters.items():\n",
    "            yield param"
   ]
  },
  {
   "cell_type": "code",
   "execution_count": null,
   "metadata": {},
   "outputs": [],
   "source": [
    "model = Model(N)\n",
    "epochs = 50\n",
    "lr = 0.05\n",
    "optimizer = SGD(model.parameters(), lr=lr)"
   ]
  },
  {
   "cell_type": "code",
   "execution_count": null,
   "metadata": {},
   "outputs": [],
   "source": [
    "for epoch in range(epochs):\n",
    "    print(f\"====={epoch}=====\")\n",
    "    loss = 0.0\n",
    "    for i in range(len(train_x)):\n",
    "        x = torch.tensor(train_x[i])\n",
    "        y = torch.tensor(train_y[i])\n",
    "        z = torch.tensor(target[i])\n",
    "        # 归一化\n",
    "        x = x / x_lim\n",
    "        y = y / y_lim\n",
    "        loss += model(x, y, z)\n",
    "    \n",
    "    optimizer.zero_grad()\n",
    "    loss = loss / len(train_x)\n",
    "    loss.backward()\n",
    "    optimizer.step()\n",
    "\n",
    "    # # 更新参数(手写梯度下降)\n",
    "    # model.x0.data = model.x0.data - lr * model.x0.grad.data\n",
    "    # model.y0.data = model.y0.data - lr * model.y0.grad.data\n",
    "\n",
    "    # model.x0.data.clamp_(0, 28655)\n",
    "    # model.y0.data.clamp_(0, 18450)\n",
    "\n",
    "    # model.k.data = model.k.data - lr * model.k.grad.data\n",
    "    # model.sigma.data = model.sigma.data - lr * model.sigma.grad.data\n",
    "\n",
    "    # model.x0.grad.zero_()\n",
    "    # model.y0.grad.zero_()\n",
    "    # model.k.grad.zero_()\n",
    "    # model.sigma.grad.zero_()\n",
    "\n",
    "    # 打印loss\n",
    "    print(loss.item())"
   ]
  },
  {
   "cell_type": "code",
   "execution_count": null,
   "metadata": {},
   "outputs": [],
   "source": [
    "print(model.x0*x_lim)\n",
    "print(model.y0*y_lim)"
   ]
  }
 ],
 "metadata": {
  "kernelspec": {
   "display_name": "Python 3.9.1 64-bit",
   "language": "python",
   "name": "python3"
  },
  "language_info": {
   "codemirror_mode": {
    "name": "ipython",
    "version": 3
   },
   "file_extension": ".py",
   "mimetype": "text/x-python",
   "name": "python",
   "nbconvert_exporter": "python",
   "pygments_lexer": "ipython3",
   "version": "3.9.1"
  },
  "orig_nbformat": 4,
  "vscode": {
   "interpreter": {
    "hash": "11938c6bc6919ae2720b4d5011047913343b08a43b18698fd82dedb0d4417594"
   }
  }
 },
 "nbformat": 4,
 "nbformat_minor": 2
}
