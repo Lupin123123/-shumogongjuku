{
 "cells": [
  {
   "cell_type": "code",
   "execution_count": 11,
   "metadata": {},
   "outputs": [],
   "source": [
    "import pandas as pd\n",
    "import numpy as np\n",
    "from scipy import stats\n",
    "from statsmodels.formula.api import ols\n",
    "from statsmodels.stats.anova import anova_lm"
   ]
  },
  {
   "cell_type": "markdown",
   "metadata": {},
   "source": [
    "## 单因素方差分析"
   ]
  },
  {
   "cell_type": "markdown",
   "metadata": {},
   "source": [
    "某保险公司想了解一下某险种在不同的地区是否有不同的索赔额。于是他们就搜集了四个不同地区一年的索赔额情况的记录如下,尝试判断一下，地区这个因素是否对与索赔额产生了显著的影响？"
   ]
  },
  {
   "cell_type": "code",
   "execution_count": 12,
   "metadata": {},
   "outputs": [],
   "source": [
    "# 这是那四个水平的索赔额的观测值\n",
    "A1 = [1.6, 1.61, 1.65, 1.68, 1.7, 1.7, 1.78]\n",
    "A2 = [1.5, 1.64, 1.4, 1.7, 1.75]\n",
    "A3 = [1.6, 1.55, 1.6, 1.62, 1.64, 1.60, 1.74, 1.8]\n",
    "A4 = [1.51, 1.52, 1.53, 1.57, 1.64, 1.6]\n",
    " \n",
    "data = [A1, A2, A3, A4]"
   ]
  },
  {
   "cell_type": "code",
   "execution_count": null,
   "metadata": {},
   "outputs": [
    {
     "name": "stdout",
     "output_type": "stream",
     "text": [
      "方差齐性假设成立\n"
     ]
    }
   ],
   "source": [
    "# 方差的齐性检验\n",
    "w, p = stats.levene(*data)\n",
    "if p < 0.05:\n",
    "    print('方差齐性假设不成立')\n",
    "else:\n",
    "    print('方差齐性假设成立')"
   ]
  },
  {
   "cell_type": "code",
   "execution_count": null,
   "metadata": {},
   "outputs": [
    {
     "name": "stdout",
     "output_type": "stream",
     "text": [
      "2.06507381767795 0.13406910483160134\n",
      "无明显差异\n"
     ]
    }
   ],
   "source": [
    "# 成立之后，就可以进行单因素方差分析\n",
    "f, p = stats.f_oneway(*data)\n",
    "print(f, p)                     # 2.06507381767795 0.13406910483160134\n",
    "if (p>0.05):                    # 关注p值，和0.05相比\n",
    "    print(\"无明显差异\")\n",
    "else:\n",
    "    print(\"有明显差异\")"
   ]
  }
 ],
 "metadata": {
  "kernelspec": {
   "display_name": "Python 3.9.1 64-bit",
   "language": "python",
   "name": "python3"
  },
  "language_info": {
   "codemirror_mode": {
    "name": "ipython",
    "version": 3
   },
   "file_extension": ".py",
   "mimetype": "text/x-python",
   "name": "python",
   "nbconvert_exporter": "python",
   "pygments_lexer": "ipython3",
   "version": "3.9.1"
  },
  "orig_nbformat": 4,
  "vscode": {
   "interpreter": {
    "hash": "11938c6bc6919ae2720b4d5011047913343b08a43b18698fd82dedb0d4417594"
   }
  }
 },
 "nbformat": 4,
 "nbformat_minor": 2
}
