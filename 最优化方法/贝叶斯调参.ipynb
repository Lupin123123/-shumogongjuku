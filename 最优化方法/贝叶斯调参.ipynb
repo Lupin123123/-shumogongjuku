{
 "cells": [
  {
   "cell_type": "code",
   "execution_count": 4,
   "metadata": {},
   "outputs": [],
   "source": [
    "from sklearn.datasets import make_classification\n",
    "from sklearn.ensemble import RandomForestClassifier\n",
    "from sklearn.model_selection import cross_val_score\n",
    "from bayes_opt import BayesianOptimization\n",
    "import numpy as np"
   ]
  },
  {
   "cell_type": "code",
   "execution_count": 5,
   "metadata": {},
   "outputs": [],
   "source": [
    "x, y = make_classification(n_samples=1000, n_features=10, n_classes=2)"
   ]
  },
  {
   "cell_type": "code",
   "execution_count": 6,
   "metadata": {},
   "outputs": [
    {
     "name": "stdout",
     "output_type": "stream",
     "text": [
      "0.95084\n"
     ]
    }
   ],
   "source": [
    "rf = RandomForestClassifier()\n",
    "print(np.mean(cross_val_score(rf, x, y, cv=20, scoring='roc_auc')))"
   ]
  },
  {
   "cell_type": "code",
   "execution_count": 7,
   "metadata": {},
   "outputs": [],
   "source": [
    "def rf_cv(n_estimators, min_samples_split, max_features, max_depth):\n",
    "    val = cross_val_score(\n",
    "        RandomForestClassifier(n_estimators=int(n_estimators),\n",
    "            min_samples_split=int(min_samples_split),\n",
    "            max_features=min(max_features, 0.999), # float\n",
    "            max_depth=int(max_depth),\n",
    "            random_state=2\n",
    "        ),\n",
    "        x, y, scoring='roc_auc', cv=5\n",
    "    ).mean()\n",
    "    return val"
   ]
  },
  {
   "cell_type": "code",
   "execution_count": 9,
   "metadata": {},
   "outputs": [],
   "source": [
    "rf_bo = BayesianOptimization(\n",
    "    rf_cv,\n",
    "    {'n_estimators': (10, 250),\n",
    "    'min_samples_split': (2, 25),\n",
    "    'max_features': (0.1, 0.999),\n",
    "    'max_depth': (5, 15)}\n",
    ")"
   ]
  },
  {
   "cell_type": "code",
   "execution_count": 10,
   "metadata": {},
   "outputs": [
    {
     "name": "stdout",
     "output_type": "stream",
     "text": [
      "|   iter    |  target   | max_depth | max_fe... | min_sa... | n_esti... |\n",
      "-------------------------------------------------------------------------\n",
      "| \u001b[0m1        \u001b[0m | \u001b[0m0.9515   \u001b[0m | \u001b[0m11.47    \u001b[0m | \u001b[0m0.5032   \u001b[0m | \u001b[0m2.708    \u001b[0m | \u001b[0m87.42    \u001b[0m |\n",
      "| \u001b[95m2        \u001b[0m | \u001b[95m0.9536   \u001b[0m | \u001b[95m10.57    \u001b[0m | \u001b[95m0.3292   \u001b[0m | \u001b[95m9.076    \u001b[0m | \u001b[95m166.0    \u001b[0m |\n",
      "| \u001b[0m3        \u001b[0m | \u001b[0m0.9518   \u001b[0m | \u001b[0m13.77    \u001b[0m | \u001b[0m0.4452   \u001b[0m | \u001b[0m11.79    \u001b[0m | \u001b[0m31.67    \u001b[0m |\n",
      "| \u001b[0m4        \u001b[0m | \u001b[0m0.9488   \u001b[0m | \u001b[0m14.32    \u001b[0m | \u001b[0m0.753    \u001b[0m | \u001b[0m5.154    \u001b[0m | \u001b[0m133.8    \u001b[0m |\n",
      "| \u001b[0m5        \u001b[0m | \u001b[0m0.9499   \u001b[0m | \u001b[0m11.95    \u001b[0m | \u001b[0m0.8336   \u001b[0m | \u001b[0m10.25    \u001b[0m | \u001b[0m207.1    \u001b[0m |\n",
      "| \u001b[0m6        \u001b[0m | \u001b[0m0.9529   \u001b[0m | \u001b[0m9.723    \u001b[0m | \u001b[0m0.3046   \u001b[0m | \u001b[0m9.615    \u001b[0m | \u001b[0m165.8    \u001b[0m |\n",
      "| \u001b[0m7        \u001b[0m | \u001b[0m0.9339   \u001b[0m | \u001b[0m13.29    \u001b[0m | \u001b[0m0.1193   \u001b[0m | \u001b[0m7.941    \u001b[0m | \u001b[0m165.7    \u001b[0m |\n",
      "| \u001b[0m8        \u001b[0m | \u001b[0m0.9525   \u001b[0m | \u001b[0m8.664    \u001b[0m | \u001b[0m0.5949   \u001b[0m | \u001b[0m8.241    \u001b[0m | \u001b[0m167.2    \u001b[0m |\n",
      "| \u001b[0m9        \u001b[0m | \u001b[0m0.953    \u001b[0m | \u001b[0m9.915    \u001b[0m | \u001b[0m0.4005   \u001b[0m | \u001b[0m9.076    \u001b[0m | \u001b[0m168.2    \u001b[0m |\n",
      "| \u001b[0m10       \u001b[0m | \u001b[0m0.9502   \u001b[0m | \u001b[0m10.8     \u001b[0m | \u001b[0m0.7137   \u001b[0m | \u001b[0m11.3     \u001b[0m | \u001b[0m167.5    \u001b[0m |\n",
      "| \u001b[0m11       \u001b[0m | \u001b[0m0.9498   \u001b[0m | \u001b[0m8.41     \u001b[0m | \u001b[0m0.8289   \u001b[0m | \u001b[0m7.32     \u001b[0m | \u001b[0m170.0    \u001b[0m |\n",
      "| \u001b[0m12       \u001b[0m | \u001b[0m0.9527   \u001b[0m | \u001b[0m8.539    \u001b[0m | \u001b[0m0.4259   \u001b[0m | \u001b[0m8.053    \u001b[0m | \u001b[0m163.2    \u001b[0m |\n",
      "| \u001b[0m13       \u001b[0m | \u001b[0m0.9479   \u001b[0m | \u001b[0m9.208    \u001b[0m | \u001b[0m0.999    \u001b[0m | \u001b[0m7.2      \u001b[0m | \u001b[0m165.2    \u001b[0m |\n",
      "| \u001b[95m14       \u001b[0m | \u001b[95m0.9542   \u001b[0m | \u001b[95m6.995    \u001b[0m | \u001b[95m0.5888   \u001b[0m | \u001b[95m8.783    \u001b[0m | \u001b[95m161.8    \u001b[0m |\n",
      "| \u001b[0m15       \u001b[0m | \u001b[0m0.9523   \u001b[0m | \u001b[0m7.116    \u001b[0m | \u001b[0m0.3717   \u001b[0m | \u001b[0m9.796    \u001b[0m | \u001b[0m163.9    \u001b[0m |\n",
      "| \u001b[0m16       \u001b[0m | \u001b[0m0.9529   \u001b[0m | \u001b[0m8.23     \u001b[0m | \u001b[0m0.4203   \u001b[0m | \u001b[0m9.878    \u001b[0m | \u001b[0m160.6    \u001b[0m |\n",
      "| \u001b[0m17       \u001b[0m | \u001b[0m0.9529   \u001b[0m | \u001b[0m6.264    \u001b[0m | \u001b[0m0.8197   \u001b[0m | \u001b[0m6.668    \u001b[0m | \u001b[0m162.3    \u001b[0m |\n",
      "| \u001b[0m18       \u001b[0m | \u001b[0m0.9542   \u001b[0m | \u001b[0m5.371    \u001b[0m | \u001b[0m0.6054   \u001b[0m | \u001b[0m10.71    \u001b[0m | \u001b[0m161.1    \u001b[0m |\n",
      "| \u001b[0m19       \u001b[0m | \u001b[0m0.9514   \u001b[0m | \u001b[0m5.963    \u001b[0m | \u001b[0m0.492    \u001b[0m | \u001b[0m8.903    \u001b[0m | \u001b[0m158.2    \u001b[0m |\n",
      "| \u001b[0m20       \u001b[0m | \u001b[0m0.9535   \u001b[0m | \u001b[0m6.981    \u001b[0m | \u001b[0m0.4343   \u001b[0m | \u001b[0m13.02    \u001b[0m | \u001b[0m161.7    \u001b[0m |\n",
      "| \u001b[0m21       \u001b[0m | \u001b[0m0.9524   \u001b[0m | \u001b[0m6.284    \u001b[0m | \u001b[0m0.999    \u001b[0m | \u001b[0m12.36    \u001b[0m | \u001b[0m159.3    \u001b[0m |\n",
      "| \u001b[0m22       \u001b[0m | \u001b[0m0.9494   \u001b[0m | \u001b[0m8.165    \u001b[0m | \u001b[0m0.8784   \u001b[0m | \u001b[0m6.518    \u001b[0m | \u001b[0m160.0    \u001b[0m |\n",
      "| \u001b[0m23       \u001b[0m | \u001b[0m0.954    \u001b[0m | \u001b[0m5.268    \u001b[0m | \u001b[0m0.8362   \u001b[0m | \u001b[0m13.36    \u001b[0m | \u001b[0m163.2    \u001b[0m |\n",
      "| \u001b[95m24       \u001b[0m | \u001b[95m0.9544   \u001b[0m | \u001b[95m5.324    \u001b[0m | \u001b[95m0.7116   \u001b[0m | \u001b[95m14.85    \u001b[0m | \u001b[95m161.4    \u001b[0m |\n",
      "| \u001b[0m25       \u001b[0m | \u001b[0m0.9534   \u001b[0m | \u001b[0m6.248    \u001b[0m | \u001b[0m0.4738   \u001b[0m | \u001b[0m15.16    \u001b[0m | \u001b[0m163.5    \u001b[0m |\n",
      "| \u001b[0m26       \u001b[0m | \u001b[0m0.9531   \u001b[0m | \u001b[0m6.842    \u001b[0m | \u001b[0m0.9568   \u001b[0m | \u001b[0m17.58    \u001b[0m | \u001b[0m160.6    \u001b[0m |\n",
      "| \u001b[0m27       \u001b[0m | \u001b[0m0.9292   \u001b[0m | \u001b[0m8.328    \u001b[0m | \u001b[0m0.1824   \u001b[0m | \u001b[0m15.51    \u001b[0m | \u001b[0m160.2    \u001b[0m |\n",
      "| \u001b[0m28       \u001b[0m | \u001b[0m0.9476   \u001b[0m | \u001b[0m5.982    \u001b[0m | \u001b[0m0.3744   \u001b[0m | \u001b[0m19.93    \u001b[0m | \u001b[0m161.0    \u001b[0m |\n",
      "| \u001b[0m29       \u001b[0m | \u001b[0m0.9529   \u001b[0m | \u001b[0m6.385    \u001b[0m | \u001b[0m0.8568   \u001b[0m | \u001b[0m11.63    \u001b[0m | \u001b[0m162.2    \u001b[0m |\n",
      "| \u001b[0m30       \u001b[0m | \u001b[0m0.9533   \u001b[0m | \u001b[0m7.823    \u001b[0m | \u001b[0m0.4141   \u001b[0m | \u001b[0m13.51    \u001b[0m | \u001b[0m164.2    \u001b[0m |\n",
      "=========================================================================\n"
     ]
    }
   ],
   "source": [
    "rf_bo.maximize()"
   ]
  }
 ],
 "metadata": {
  "kernelspec": {
   "display_name": "base",
   "language": "python",
   "name": "python3"
  },
  "language_info": {
   "codemirror_mode": {
    "name": "ipython",
    "version": 3
   },
   "file_extension": ".py",
   "mimetype": "text/x-python",
   "name": "python",
   "nbconvert_exporter": "python",
   "pygments_lexer": "ipython3",
   "version": "3.9.12"
  },
  "orig_nbformat": 4,
  "vscode": {
   "interpreter": {
    "hash": "5179d32cf6ec497baf3f8a3ef987cc77c5d2dc691fdde20a56316522f61a7323"
   }
  }
 },
 "nbformat": 4,
 "nbformat_minor": 2
}
