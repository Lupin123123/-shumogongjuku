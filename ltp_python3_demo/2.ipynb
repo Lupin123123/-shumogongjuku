{
 "cells": [
  {
   "cell_type": "code",
   "execution_count": 35,
   "metadata": {},
   "outputs": [],
   "source": [
    "import requests\n",
    "import json\n",
    "import pandas as pd\n",
    "import numpy as np\n",
    "import time"
   ]
  },
  {
   "cell_type": "code",
   "execution_count": 36,
   "metadata": {},
   "outputs": [],
   "source": [
    "API_KEY = \"7WGNzrGfCtw3hb2u88bChsUn\"\n",
    "SECRET_KEY = \"EWyv7obpDrhyidyfqzvaMsAbdleA4VSz\""
   ]
  },
  {
   "cell_type": "code",
   "execution_count": 37,
   "metadata": {},
   "outputs": [],
   "source": [
    "def get_access_token():\n",
    "    \"\"\"\n",
    "    使用 AK，SK 生成鉴权签名（Access Token）\n",
    "    :return: access_token，或是None(如果错误)\n",
    "    \"\"\"\n",
    "    url = \"https://aip.baidubce.com/oauth/2.0/token\"\n",
    "    params = {\"grant_type\": \"client_credentials\", \"client_id\": API_KEY, \"client_secret\": SECRET_KEY}\n",
    "    return str(requests.post(url, params=params).json().get(\"access_token\"))"
   ]
  },
  {
   "cell_type": "code",
   "execution_count": 38,
   "metadata": {},
   "outputs": [],
   "source": [
    "df = pd.read_excel('review.xlsx')\n",
    "df_new = df"
   ]
  },
  {
   "cell_type": "code",
   "execution_count": 39,
   "metadata": {},
   "outputs": [
    {
     "name": "stdout",
     "output_type": "stream",
     "text": [
      "第0个评论：\"negative_prob\":0.000828536,\"positive_prob\":0.999171,\"sentiment\":2\n",
      "第1个评论：\"negative_prob\":0.0131154,\"positive_prob\":0.986885,\"sentiment\":2\n",
      "第2个评论：\"negative_prob\":0.000158342,\"positive_prob\":0.999842,\"sentiment\":2\n",
      "第3个评论：\"negative_prob\":0.00711229,\"positive_prob\":0.992888,\"sentiment\":2\n",
      "第4个评论：\"negative_prob\":0.0370589,\"positive_prob\":0.962941,\"sentiment\":2\n",
      "第5个评论：\"negative_prob\":0.0533477,\"positive_prob\":0.946652,\"sentiment\":2\n",
      "第6个评论：\"negative_prob\":0.00649434,\"positive_prob\":0.993506,\"sentiment\":2\n",
      "第7个评论：\"negative_prob\":0.0216508\n",
      "第8个评论：\"negative_prob\":0.0000765134,\"positive_prob\":0.999923,\"sentiment\":2\n",
      "第9个评论：\"negative_prob\":0.0255919,\"positive_prob\":0.974408,\"sentiment\":2\n"
     ]
    }
   ],
   "source": [
    "for i in range(len(df))[:10]:\n",
    "# for i in [7]:\n",
    "    text_i = df.iloc[i, 0]\n",
    "    \n",
    "    url = \"https://aip.baidubce.com/rpc/2.0/nlp/v1/sentiment_classify?charset=&access_token=\" \\\n",
    "            + get_access_token()\n",
    "\n",
    "    payload = json.dumps({\n",
    "        \"text\": text_i\n",
    "    })\n",
    "\n",
    "    headers = {\n",
    "        'Content-Type': 'application/json',\n",
    "        'Accept': 'application/json'\n",
    "    }\n",
    "\n",
    "    response = requests.request(\"POST\", url, headers=headers, data=payload)\n",
    "\n",
    "    result = response.text\n",
    "    tmp1 = result.find('\"negative_prob\":')\n",
    "    tmp2 = result.find('}],\"log_id\":')\n",
    "    # print(text_i)\n",
    "    # print(result)\n",
    "    result1 = \"第{}个评论：{}\".format(i, result[tmp1:tmp2])\n",
    "    print(result1)\n",
    "    df_new.iloc[i, 0] = result1\n",
    "    time.sleep(30)"
   ]
  },
  {
   "cell_type": "code",
   "execution_count": 40,
   "metadata": {},
   "outputs": [
    {
     "data": {
      "text/html": [
       "<div>\n",
       "<style scoped>\n",
       "    .dataframe tbody tr th:only-of-type {\n",
       "        vertical-align: middle;\n",
       "    }\n",
       "\n",
       "    .dataframe tbody tr th {\n",
       "        vertical-align: top;\n",
       "    }\n",
       "\n",
       "    .dataframe thead th {\n",
       "        text-align: right;\n",
       "    }\n",
       "</style>\n",
       "<table border=\"1\" class=\"dataframe\">\n",
       "  <thead>\n",
       "    <tr style=\"text-align: right;\">\n",
       "      <th></th>\n",
       "      <th>review_body</th>\n",
       "    </tr>\n",
       "  </thead>\n",
       "  <tbody>\n",
       "    <tr>\n",
       "      <th>0</th>\n",
       "      <td>第0个评论：\"negative_prob\":0.000828536,\"positive_pr...</td>\n",
       "    </tr>\n",
       "    <tr>\n",
       "      <th>1</th>\n",
       "      <td>第1个评论：\"negative_prob\":0.0131154,\"positive_prob...</td>\n",
       "    </tr>\n",
       "    <tr>\n",
       "      <th>2</th>\n",
       "      <td>第2个评论：\"negative_prob\":0.000158342,\"positive_pr...</td>\n",
       "    </tr>\n",
       "    <tr>\n",
       "      <th>3</th>\n",
       "      <td>第3个评论：\"negative_prob\":0.00711229,\"positive_pro...</td>\n",
       "    </tr>\n",
       "    <tr>\n",
       "      <th>4</th>\n",
       "      <td>第4个评论：\"negative_prob\":0.0370589,\"positive_prob...</td>\n",
       "    </tr>\n",
       "    <tr>\n",
       "      <th>...</th>\n",
       "      <td>...</td>\n",
       "    </tr>\n",
       "    <tr>\n",
       "      <th>11465</th>\n",
       "      <td>I just purchased this dryer, and I really like...</td>\n",
       "    </tr>\n",
       "    <tr>\n",
       "      <th>11466</th>\n",
       "      <td>I purchased it because it was supposed to be q...</td>\n",
       "    </tr>\n",
       "    <tr>\n",
       "      <th>11467</th>\n",
       "      <td>I love this dryer not only is it QUIET, it rea...</td>\n",
       "    </tr>\n",
       "    <tr>\n",
       "      <th>11468</th>\n",
       "      <td>This hairdryer far exceeded my expection for&lt;B...</td>\n",
       "    </tr>\n",
       "    <tr>\n",
       "      <th>11469</th>\n",
       "      <td>This is my only experience with an ionic hair ...</td>\n",
       "    </tr>\n",
       "  </tbody>\n",
       "</table>\n",
       "<p>11470 rows × 1 columns</p>\n",
       "</div>"
      ],
      "text/plain": [
       "                                             review_body\n",
       "0      第0个评论：\"negative_prob\":0.000828536,\"positive_pr...\n",
       "1      第1个评论：\"negative_prob\":0.0131154,\"positive_prob...\n",
       "2      第2个评论：\"negative_prob\":0.000158342,\"positive_pr...\n",
       "3      第3个评论：\"negative_prob\":0.00711229,\"positive_pro...\n",
       "4      第4个评论：\"negative_prob\":0.0370589,\"positive_prob...\n",
       "...                                                  ...\n",
       "11465  I just purchased this dryer, and I really like...\n",
       "11466  I purchased it because it was supposed to be q...\n",
       "11467  I love this dryer not only is it QUIET, it rea...\n",
       "11468  This hairdryer far exceeded my expection for<B...\n",
       "11469  This is my only experience with an ionic hair ...\n",
       "\n",
       "[11470 rows x 1 columns]"
      ]
     },
     "execution_count": 40,
     "metadata": {},
     "output_type": "execute_result"
    }
   ],
   "source": [
    "df_new"
   ]
  }
 ],
 "metadata": {
  "kernelspec": {
   "display_name": "base",
   "language": "python",
   "name": "python3"
  },
  "language_info": {
   "codemirror_mode": {
    "name": "ipython",
    "version": 3
   },
   "file_extension": ".py",
   "mimetype": "text/x-python",
   "name": "python",
   "nbconvert_exporter": "python",
   "pygments_lexer": "ipython3",
   "version": "3.9.12"
  },
  "orig_nbformat": 4,
  "vscode": {
   "interpreter": {
    "hash": "5179d32cf6ec497baf3f8a3ef987cc77c5d2dc691fdde20a56316522f61a7323"
   }
  }
 },
 "nbformat": 4,
 "nbformat_minor": 2
}
