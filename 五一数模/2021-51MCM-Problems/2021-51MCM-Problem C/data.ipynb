{
 "cells": [
  {
   "cell_type": "code",
   "execution_count": null,
   "metadata": {},
   "outputs": [],
   "source": [
    "import pandas as pd\n",
    "import numpy as np\n",
    "import matplotlib.pyplot as plt"
   ]
  },
  {
   "cell_type": "code",
   "execution_count": null,
   "metadata": {},
   "outputs": [],
   "source": [
    "df = pd.read_excel(r\"附件1(Appendix 1)2021-51MCM-Problem C.xlsx\")"
   ]
  },
  {
   "cell_type": "code",
   "execution_count": null,
   "metadata": {},
   "outputs": [],
   "source": [
    "for i in [1, 3, 4, 9, 10, 15]:\n",
    "    bzc = df[i].std()\n",
    "    aver = df[i].mean()\n",
    "\n",
    "    # print(bzc)\n",
    "    # print(aver)\n",
    "\n",
    "    print(\"{},{}\".format(aver-3*bzc, aver+2*bzc))\n",
    "    ser = df[i]\n",
    "\n",
    "    bool_id = ((ser.mean() - 3 * ser.std()) <= ser)  &   (ser <= (ser.mean() + 3 * ser.std()))\n",
    "    idx = bool_id[bool_id==False].index.to_list()\n",
    "    tmp = df.iloc[idx, i+1]\n",
    "    tmp.to_excel('{}.xlsx'.format(i))\n",
    "\n",
    "    plt.figure(figsize=(20,8), dpi=80)\n",
    "\n",
    "    plt.scatter(tmp.index, tmp.values)\n",
    "\n",
    "    plt.savefig(fname='{}.jpg'.format(i))\n"
   ]
  },
  {
   "cell_type": "code",
   "execution_count": null,
   "metadata": {},
   "outputs": [],
   "source": [
    "import math\n",
    "def f1(x):\n",
    "    return -8.127*math.pow(10,-17)*x**5+1.136*math.pow(10,-12)*x**4-5.182*math.pow(10,-9)*x**3+7.969*math.pow(10,-6)*x**2-0.001083*x+211.7\n",
    "\n",
    "def f2(x):\n",
    "    return -4.848*math.pow(10,-20)*x**6 + 7.562*math.pow(10,-16)*x**5 - 4.066*math.pow(10,-12)*x**4 + 8.346*math.pow(10,-9)*x**3-3.95*math.pow(10,-6)*x**2 - 0.001883*x + 272.3"
   ]
  },
  {
   "cell_type": "code",
   "execution_count": null,
   "metadata": {},
   "outputs": [],
   "source": [
    "id = df[11].index.to_numpy().astype(np.float32)\n",
    "tmp = f2(id)\n",
    "plt.plot(tmp)\n",
    "tmp"
   ]
  },
  {
   "cell_type": "code",
   "execution_count": null,
   "metadata": {},
   "outputs": [],
   "source": [
    "for i in [2, 11]:\n",
    "    index = df[i].index.to_numpy().astype(np.float32)\n",
    "    # print(f1(df[i]))\n",
    "    # print(index)\n",
    "    if (i==2): \n",
    "        tmp = f1(index)-df[i]\n",
    "        tmp.to_excel('./{}.xlsx'.format(i))\n",
    "    else:\n",
    "        tmp = f2(index)-df[i]\n",
    "        tmp.to_excel('./{}.xlsx'.format(i))"
   ]
  }
 ],
 "metadata": {
  "interpreter": {
   "hash": "ac59ebe37160ed0dfa835113d9b8498d9f09ceb179beaac4002f036b9467c963"
  },
  "kernelspec": {
   "display_name": "Python 3.9.1 64-bit",
   "language": "python",
   "name": "python3"
  },
  "language_info": {
   "codemirror_mode": {
    "name": "ipython",
    "version": 3
   },
   "file_extension": ".py",
   "mimetype": "text/x-python",
   "name": "python",
   "nbconvert_exporter": "python",
   "pygments_lexer": "ipython3",
   "version": "3.9.1"
  },
  "orig_nbformat": 4
 },
 "nbformat": 4,
 "nbformat_minor": 2
}
