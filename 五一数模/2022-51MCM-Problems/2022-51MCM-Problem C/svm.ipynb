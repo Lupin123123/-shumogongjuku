{
 "cells": [
  {
   "cell_type": "code",
   "execution_count": 85,
   "metadata": {},
   "outputs": [],
   "source": [
    "import torch\n",
    "import numpy as np\n",
    "import pandas as pd\n",
    "import matplotlib.pyplot as plt\n",
    "from sklearn import svm, datasets\n",
    "from torch.utils.data import Dataset\n",
    "from torch.utils.data import DataLoader\n",
    "from torch.utils.data import random_split\n",
    "from torch.utils.data import TensorDataset"
   ]
  },
  {
   "cell_type": "code",
   "execution_count": 86,
   "metadata": {},
   "outputs": [],
   "source": [
    "df = pd.read_excel('X_Y.xlsx')"
   ]
  },
  {
   "cell_type": "code",
   "execution_count": 87,
   "metadata": {},
   "outputs": [],
   "source": [
    "data = df.to_numpy()"
   ]
  },
  {
   "cell_type": "code",
   "execution_count": 88,
   "metadata": {},
   "outputs": [],
   "source": [
    "rate = 0.7\n",
    "train_len = int(data.shape[0]*rate)\n",
    "X_train = data[:train_len, 1:-1]  #取数据前两列进行分类\n",
    "Y_train = data[:train_len, -1]\n",
    "X_test = data[train_len:, 1:-1] \n",
    "Y_test = data[train_len:, -1]\n",
    "#打印生成的数据集便于观察\n",
    "# print(X_train)\n",
    "# print(Y_train)"
   ]
  },
  {
   "cell_type": "code",
   "execution_count": 130,
   "metadata": {},
   "outputs": [
    {
     "name": "stdout",
     "output_type": "stream",
     "text": [
      "The scores of test set is 0.906250\n"
     ]
    }
   ],
   "source": [
    "# 我们创建一个基于线性核函数的支持向量分类SVM并拟合数据。\n",
    "# clf=svm.SVC(kernel=\"poly\")   #多项式基SVC\n",
    "clf=svm.SVC(gamma=0.007)         #径向基SVC,gamma=1\n",
    "# clf=svm.LinearSVC()                #径向基SVC\n",
    "# clf=svm.NuSVC(kernel=\"linear\")    #线性基NuSVC\n",
    "# clf=svm.NuSVC(kernel=\"poly\",gamma=1)   #多项式基NuSVC,gamma=1\n",
    "# clf=svm.NuSVC()               #径向基NuSVC\n",
    "\n",
    "clf.fit(X_train, Y_train)\n",
    "y_hat = clf.predict(X_test)\n",
    "print(\"The scores of test set is %f\" %(clf.score(X_test, Y_test))) # 测试集准确率"
   ]
  },
  {
   "cell_type": "code",
   "execution_count": 131,
   "metadata": {},
   "outputs": [
    {
     "data": {
      "text/plain": [
       "array([1, 1, 1, 0, 0, 1, 0, 0, 1, 1, 1, 1, 1, 1, 1], dtype=int64)"
      ]
     },
     "execution_count": 131,
     "metadata": {},
     "output_type": "execute_result"
    }
   ],
   "source": [
    "df2 = pd.read_excel('X_Y_test.xlsx')\n",
    "XX = df2.to_numpy()[:,:-1]\n",
    "YY = clf.predict(XX)\n",
    "YY"
   ]
  },
  {
   "cell_type": "code",
   "execution_count": 141,
   "metadata": {},
   "outputs": [
    {
     "data": {
      "text/plain": [
       "array([[  0.,  67.,   0., ...,   0.,   0.,  65.],\n",
       "       [  0.,   0.,   0., ...,   0.,   0.,  66.],\n",
       "       [  0.,   0.,   0., ...,   0.,   0.,  67.],\n",
       "       ...,\n",
       "       [  0.,   0.,   0., ...,   0.,   0.,  75.],\n",
       "       [  0.,   0., 588., ...,   0.,   0.,  76.],\n",
       "       [  0.,   0.,   0., ..., 203.,   0.,  76.]])"
      ]
     },
     "execution_count": 141,
     "metadata": {},
     "output_type": "execute_result"
    }
   ],
   "source": [
    "support_vector = np.array(clf.support_vectors_)\n",
    "support_vector"
   ]
  }
 ],
 "metadata": {
  "interpreter": {
   "hash": "ac59ebe37160ed0dfa835113d9b8498d9f09ceb179beaac4002f036b9467c963"
  },
  "kernelspec": {
   "display_name": "Python 3.9.1 64-bit",
   "language": "python",
   "name": "python3"
  },
  "language_info": {
   "codemirror_mode": {
    "name": "ipython",
    "version": 3
   },
   "file_extension": ".py",
   "mimetype": "text/x-python",
   "name": "python",
   "nbconvert_exporter": "python",
   "pygments_lexer": "ipython3",
   "version": "3.9.1"
  },
  "orig_nbformat": 4
 },
 "nbformat": 4,
 "nbformat_minor": 2
}
