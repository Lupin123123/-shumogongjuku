{
 "cells": [
  {
   "cell_type": "code",
   "execution_count": 81,
   "metadata": {},
   "outputs": [],
   "source": [
    "import pandas as pd"
   ]
  },
  {
   "cell_type": "code",
   "execution_count": 82,
   "metadata": {},
   "outputs": [],
   "source": [
    "df = pd.read_excel('聚类.xlsx', sheet_name='总表')"
   ]
  },
  {
   "cell_type": "code",
   "execution_count": 83,
   "metadata": {},
   "outputs": [],
   "source": [
    "# letter_lst = ['I', 'K', 'O']\n",
    "letter_lst = ['C', 'G', 'H', 'J', 'M', 'N']\n",
    "lst_tmp = []\n",
    "\n",
    "for i in  letter_lst:\n",
    "    path = 'question1_guzhangcishu_count{}大队 (Fire brigade {}).xlsx'.format(i,i)\n",
    "    df_tmp = pd.read_excel(path)\n",
    "    tmp_lst1 = df_tmp['部件名称 (Component name)'].to_list()\n",
    "    lst_tmp += tmp_lst1"
   ]
  },
  {
   "cell_type": "code",
   "execution_count": 84,
   "metadata": {},
   "outputs": [],
   "source": [
    "lst_tmp = list(set(lst_tmp))\n",
    "target = pd.DataFrame(index=lst_tmp)\n",
    "target['故障次数 (Failure number)'] = 0\n",
    "target.fillna(0, inplace=True)"
   ]
  },
  {
   "cell_type": "code",
   "execution_count": 85,
   "metadata": {},
   "outputs": [],
   "source": [
    "for i in letter_lst:\n",
    "    path = 'question1_guzhangcishu_count{}大队 (Fire brigade {}).xlsx'.format(i,i)\n",
    "    df_tmp = pd.read_excel(path)\n",
    "\n",
    "    idx = df_tmp['部件名称 (Component name)'].to_list()\n",
    "    df_tmp.set_index('部件名称 (Component name)', inplace=True)\n",
    "    \n",
    "    target.loc[idx, '故障次数 (Failure number)'] += df_tmp['故障次数 (Failure number)']"
   ]
  },
  {
   "cell_type": "code",
   "execution_count": 86,
   "metadata": {},
   "outputs": [],
   "source": [
    "import numpy as np\n",
    "target = target.astype(np.float64)\n",
    "target = target.round(3)\n",
    "# target.to_excel('故障次数聚类B.xlsx')\n",
    "target"
   ]
  }
 ],
 "metadata": {
  "interpreter": {
   "hash": "ac59ebe37160ed0dfa835113d9b8498d9f09ceb179beaac4002f036b9467c963"
  },
  "kernelspec": {
   "display_name": "Python 3.9.1 64-bit",
   "language": "python",
   "name": "python3"
  },
  "language_info": {
   "codemirror_mode": {
    "name": "ipython",
    "version": 3
   },
   "file_extension": ".py",
   "mimetype": "text/x-python",
   "name": "python",
   "nbconvert_exporter": "python",
   "pygments_lexer": "ipython3",
   "version": "3.9.1"
  },
  "orig_nbformat": 4
 },
 "nbformat": 4,
 "nbformat_minor": 2
}
