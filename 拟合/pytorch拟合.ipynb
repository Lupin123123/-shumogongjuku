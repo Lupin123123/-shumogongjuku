{
 "cells": [
  {
   "cell_type": "code",
   "execution_count": 18,
   "metadata": {},
   "outputs": [],
   "source": [
    "import torch\n",
    "import numpy as np"
   ]
  },
  {
   "cell_type": "code",
   "execution_count": 19,
   "metadata": {},
   "outputs": [],
   "source": [
    "class Net:\n",
    "    def __init__(self):\n",
    "        self.a = torch.rand(1, requires_grad=True)\n",
    "        self.b = torch.rand(1, requires_grad=True)\n",
    "        self.__parameters = dict(a=self.a, b=self.b)\n",
    "\n",
    "    def forward(self, inputs):\n",
    "        return self.a * inputs + self.b\n",
    "        \n",
    "    def parameters(self):\n",
    "        for name, param in self.__parameters.items():\n",
    "            yield param"
   ]
  },
  {
   "cell_type": "code",
   "execution_count": 20,
   "metadata": {},
   "outputs": [],
   "source": [
    "x = np.linspace(1, 50, 50)\n",
    "y = x + 2"
   ]
  },
  {
   "cell_type": "code",
   "execution_count": 21,
   "metadata": {},
   "outputs": [],
   "source": [
    "net = Net()\n",
    "\n",
    "x = torch.from_numpy(x.astype(np.float32))\n",
    "y = torch.from_numpy(y.astype(np.float32))\n",
    "\n",
    "optimizer = torch.optim.Adam(net.parameters(), lr=0.001, weight_decay=0.0005)\n",
    "loss_op = torch.nn.MSELoss(reduction='sum')"
   ]
  },
  {
   "cell_type": "code",
   "execution_count": 22,
   "metadata": {},
   "outputs": [
    {
     "name": "stdout",
     "output_type": "stream",
     "text": [
      "10 7046.0103\n",
      "20 6694.144\n",
      "30 6353.8926\n",
      "40 6025.9062\n",
      "50 5710.4194\n",
      "60 5407.397\n",
      "70 5116.661\n",
      "80 4837.96\n",
      "90 4571.004\n",
      "100 4315.4976\n",
      "110 4071.1287\n",
      "120 3837.5908\n",
      "130 3614.5764\n",
      "140 3401.7805\n",
      "150 3198.897\n",
      "160 3005.6196\n",
      "170 2821.6504\n",
      "180 2646.689\n",
      "190 2480.4365\n"
     ]
    }
   ],
   "source": [
    "for i in range(1, 200):\n",
    "    out = net.forward(x)\n",
    "    loss = loss_op(y, out)\n",
    "    optimizer.zero_grad()\n",
    "    loss.backward()\n",
    "    optimizer.step()\n",
    "    # 输出中间过程\n",
    "    loss_numpy = loss.cpu().detach().numpy()\n",
    "    if i % 10== 0:\n",
    "        print(i, loss_numpy)\n",
    "    if loss_numpy < 0.00001:\n",
    "        a = net.a.cpu().detach().numpy()\n",
    "        b = net.b.cpu().detach().numpy()\n",
    "        print(a, b)\n",
    "        exit()"
   ]
  }
 ],
 "metadata": {
  "kernelspec": {
   "display_name": "Python 3.9.1 64-bit",
   "language": "python",
   "name": "python3"
  },
  "language_info": {
   "codemirror_mode": {
    "name": "ipython",
    "version": 3
   },
   "file_extension": ".py",
   "mimetype": "text/x-python",
   "name": "python",
   "nbconvert_exporter": "python",
   "pygments_lexer": "ipython3",
   "version": "3.9.1"
  },
  "orig_nbformat": 4,
  "vscode": {
   "interpreter": {
    "hash": "11938c6bc6919ae2720b4d5011047913343b08a43b18698fd82dedb0d4417594"
   }
  }
 },
 "nbformat": 4,
 "nbformat_minor": 2
}
