{
 "cells": [
  {
   "cell_type": "code",
   "execution_count": null,
   "metadata": {},
   "outputs": [],
   "source": [
    "from SALib.sample import saltelli\n",
    "from SALib.analyze import sobol\n",
    "from SALib.analyze import morris\n",
    "import numpy as np\n",
    "import pandas as pd\n",
    "import math\n",
    "import matplotlib.pyplot as plt\n",
    "\n",
    "import seaborn as sns\n",
    "sns.set()"
   ]
  },
  {
   "cell_type": "code",
   "execution_count": null,
   "metadata": {},
   "outputs": [],
   "source": [
    "df = pd.read_excel(r'C:\\Users\\Administrator\\Desktop\\数模国赛\\第二问\\表单二最终数据.xlsx')\n",
    "feature_lst1 = df.columns[1:-1].tolist()\n",
    "feature_lst2 = feature_lst1.copy()\n",
    "feature_lst2.remove('氧化铅(PbO)')\n",
    "feature_lst3 = feature_lst2.copy()\n",
    "feature_lst3.remove('氧化钾(K2O)')\n",
    "feature_lst3.remove('二氧化硅(SiO2)')\n",
    "feature_lst3.remove('氧化铜(CuO)')\n",
    "X1 = df.loc[:, feature_lst1]\n",
    "X2 = df.loc[:, feature_lst2]\n",
    "X3 = df.loc[:, feature_lst3]\n",
    "y = df.iloc[:, -1]"
   ]
  },
  {
   "cell_type": "code",
   "execution_count": null,
   "metadata": {},
   "outputs": [],
   "source": [
    "id2 = [0, 1, 2, 3, 4, 5, 6, 7, 9, 10, 11, 12, 13, 14]\n",
    "id3 = [1, 3, 4, 5, 6, 9, 10, 11, 12, 13, 14]"
   ]
  },
  {
   "cell_type": "code",
   "execution_count": null,
   "metadata": {},
   "outputs": [],
   "source": [
    "from sklearn.tree import DecisionTreeClassifier\n",
    "model1 = DecisionTreeClassifier().fit(X1, y)\n",
    "model2 = DecisionTreeClassifier().fit(X2, y)\n",
    "model3 = DecisionTreeClassifier().fit(X3, y)"
   ]
  },
  {
   "cell_type": "code",
   "execution_count": null,
   "metadata": {},
   "outputs": [],
   "source": [
    "# Define the model inputs\n",
    "problem = {\n",
    "    'num_vars': 15,\n",
    "    'names': feature_lst1,\n",
    "    'bounds': [\n",
    "               [3.72, 96.7],\n",
    "               [0, 7.92],\n",
    "               [0, 14.5],\n",
    "               [0, 8.7],\n",
    "               [0, 2.73],\n",
    "               [0.45, 14.34],\n",
    "               [0, 6.04],\n",
    "               [0, 10.57],\n",
    "               [0, 70.21],\n",
    "               [0, 35.45],\n",
    "               [0, 14.13],\n",
    "               [0, 1.12],\n",
    "               [0, 2.36],\n",
    "               [0, 15.95],\n",
    "               [0, 1]]\n",
    "}"
   ]
  },
  {
   "cell_type": "code",
   "execution_count": null,
   "metadata": {},
   "outputs": [],
   "source": [
    "def evaluate(X):  # 这里是我们要进行灵敏度分析的模型,接受一个数组,每个数组元素作为模型的一个输入,模型的输出是一个float,干函数返回的时候再讲所有输出并起来\n",
    "    input1 = X\n",
    "    input2 = X[:, id2]\n",
    "    input3 = X[:, id3]\n",
    "    y1 = model1.predict(input1)\n",
    "    y2 = model2.predict(input2)\n",
    "    y3 = model3.predict(input3)\n",
    "    ans = np.array(y1+y2+y3)\n",
    "    ans = np.int16(ans>=2)\n",
    "    return ans"
   ]
  },
  {
   "cell_type": "code",
   "execution_count": null,
   "metadata": {},
   "outputs": [],
   "source": [
    "# Generate samples\n",
    "X = saltelli.sample(problem, 10000)\n",
    "X.shape"
   ]
  },
  {
   "cell_type": "code",
   "execution_count": null,
   "metadata": {},
   "outputs": [],
   "source": [
    "X"
   ]
  },
  {
   "cell_type": "code",
   "execution_count": null,
   "metadata": {},
   "outputs": [],
   "source": [
    "# Run model (example)\n",
    "Y = evaluate(X)"
   ]
  },
  {
   "cell_type": "code",
   "execution_count": null,
   "metadata": {},
   "outputs": [],
   "source": [
    "Y"
   ]
  },
  {
   "cell_type": "code",
   "execution_count": null,
   "metadata": {},
   "outputs": [],
   "source": [
    "# Perform analysis (这里运行完成后会自动对结果进行展示)\n",
    "Si = sobol.analyze(problem, Y, print_to_console=True)"
   ]
  },
  {
   "cell_type": "code",
   "execution_count": null,
   "metadata": {},
   "outputs": [],
   "source": [
    "Si_df = Si.to_df()"
   ]
  },
  {
   "cell_type": "code",
   "execution_count": null,
   "metadata": {},
   "outputs": [],
   "source": [
    "from SALib.plotting.bar import plot as barplot\n",
    "import matplotlib.pyplot as plot\n",
    "\n",
    "plt.rcParams['font.sans-serif']=['FangSong']    # 正常显示文字\n",
    "plt.rcParams['axes.unicode_minus']=False        # 正常显示负号\n",
    "plt.rcParams['figure.figsize'] = (8.0, 4.0)     # 设置figure_size尺寸\n",
    "plt.rcParams['figure.dpi'] = 300                #分辨率\n",
    "\n",
    "barplot(Si_df[0])\n",
    "\n",
    "plt.xticks(rotation=70)\n",
    "plt.ylabel('总灵敏度值')\n",
    "plot.show()"
   ]
  }
 ],
 "metadata": {
  "kernelspec": {
   "display_name": "base",
   "language": "python",
   "name": "python3"
  },
  "language_info": {
   "codemirror_mode": {
    "name": "ipython",
    "version": 3
   },
   "file_extension": ".py",
   "mimetype": "text/x-python",
   "name": "python",
   "nbconvert_exporter": "python",
   "pygments_lexer": "ipython3",
   "version": "3.9.12 (main, Apr  4 2022, 05:22:27) [MSC v.1916 64 bit (AMD64)]"
  },
  "orig_nbformat": 4,
  "vscode": {
   "interpreter": {
    "hash": "5179d32cf6ec497baf3f8a3ef987cc77c5d2dc691fdde20a56316522f61a7323"
   }
  }
 },
 "nbformat": 4,
 "nbformat_minor": 2
}
